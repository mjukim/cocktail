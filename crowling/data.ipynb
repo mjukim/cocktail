{
 "cells": [
  {
   "cell_type": "code",
   "execution_count": 1,
   "metadata": {},
   "outputs": [],
   "source": [
    "import numpy as np\n",
    "import pandas as pd\n",
    "import json"
   ]
  },
  {
   "cell_type": "code",
   "execution_count": 2,
   "metadata": {},
   "outputs": [],
   "source": [
    "df = pd.read_json('./pl7.json')"
   ]
  },
  {
   "cell_type": "code",
   "execution_count": 3,
   "metadata": {},
   "outputs": [
    {
     "data": {
      "text/html": [
       "<div>\n",
       "<style scoped>\n",
       "    .dataframe tbody tr th:only-of-type {\n",
       "        vertical-align: middle;\n",
       "    }\n",
       "\n",
       "    .dataframe tbody tr th {\n",
       "        vertical-align: top;\n",
       "    }\n",
       "\n",
       "    .dataframe thead th {\n",
       "        text-align: right;\n",
       "    }\n",
       "</style>\n",
       "<table border=\"1\" class=\"dataframe\">\n",
       "  <thead>\n",
       "    <tr style=\"text-align: right;\">\n",
       "      <th></th>\n",
       "      <th>name</th>\n",
       "      <th>종류</th>\n",
       "      <th>도수</th>\n",
       "      <th>Aroma</th>\n",
       "      <th>Taste</th>\n",
       "      <th>Finish</th>\n",
       "    </tr>\n",
       "  </thead>\n",
       "  <tbody>\n",
       "    <tr>\n",
       "      <th>0</th>\n",
       "      <td>앱솔루트 그레이프</td>\n",
       "      <td>보드카</td>\n",
       "      <td>40.0</td>\n",
       "      <td>파파야, 청포도, 용과</td>\n",
       "      <td>알코올감, 과일, 부드러운</td>\n",
       "      <td>산뜻한, 신선한, 과일</td>\n",
       "    </tr>\n",
       "    <tr>\n",
       "      <th>1</th>\n",
       "      <td>배다리도가 주교주</td>\n",
       "      <td>우리술</td>\n",
       "      <td>16.0</td>\n",
       "      <td>누룩, 쌀</td>\n",
       "      <td>달콤한, 구수한</td>\n",
       "      <td>부드러운, 은은한</td>\n",
       "    </tr>\n",
       "    <tr>\n",
       "      <th>2</th>\n",
       "      <td>뽀할라 코코뱅어</td>\n",
       "      <td>임페리얼 스타우트</td>\n",
       "      <td>12.5</td>\n",
       "      <td>구운 코코넛, 열대 과일, 로스팅한 커피</td>\n",
       "      <td>달고나, 달콤한, 묵직한</td>\n",
       "      <td>부드러운, 진득한</td>\n",
       "    </tr>\n",
       "    <tr>\n",
       "      <th>3</th>\n",
       "      <td>다나 에스테이트, 바소 까베르네 소비뇽</td>\n",
       "      <td>레드 와인</td>\n",
       "      <td>14.5</td>\n",
       "      <td>오크, 타바코, 체리, 자두, 레드커런트</td>\n",
       "      <td>체리, 숲, 딸기, 단단한 구조감</td>\n",
       "      <td>크렘 브륄레, 붉은 과일, 딸기, 다크 초콜릿, 은은한</td>\n",
       "    </tr>\n",
       "    <tr>\n",
       "      <th>4</th>\n",
       "      <td>오린 스위프트 8년 인 더 데저트</td>\n",
       "      <td>레드 와인</td>\n",
       "      <td>15.7</td>\n",
       "      <td>오크, 라즈베리, 자두, 후추</td>\n",
       "      <td>블랙베리, 라즈베리, 클로브</td>\n",
       "      <td>블루베리, 오크, 바닐라, 체리</td>\n",
       "    </tr>\n",
       "  </tbody>\n",
       "</table>\n",
       "</div>"
      ],
      "text/plain": [
       "                    name         종류    도수                   Aroma  \\\n",
       "0              앱솔루트 그레이프        보드카  40.0            파파야, 청포도, 용과   \n",
       "1              배다리도가 주교주        우리술  16.0                   누룩, 쌀   \n",
       "2               뽀할라 코코뱅어  임페리얼 스타우트  12.5  구운 코코넛, 열대 과일, 로스팅한 커피   \n",
       "3  다나 에스테이트, 바소 까베르네 소비뇽      레드 와인  14.5  오크, 타바코, 체리, 자두, 레드커런트   \n",
       "4     오린 스위프트 8년 인 더 데저트      레드 와인  15.7        오크, 라즈베리, 자두, 후추   \n",
       "\n",
       "                Taste                          Finish  \n",
       "0      알코올감, 과일, 부드러운                    산뜻한, 신선한, 과일  \n",
       "1            달콤한, 구수한                       부드러운, 은은한  \n",
       "2       달고나, 달콤한, 묵직한                       부드러운, 진득한  \n",
       "3  체리, 숲, 딸기, 단단한 구조감  크렘 브륄레, 붉은 과일, 딸기, 다크 초콜릿, 은은한  \n",
       "4     블랙베리, 라즈베리, 클로브               블루베리, 오크, 바닐라, 체리  "
      ]
     },
     "execution_count": 3,
     "metadata": {},
     "output_type": "execute_result"
    }
   ],
   "source": [
    "df.head()"
   ]
  },
  {
   "cell_type": "code",
   "execution_count": 3,
   "metadata": {},
   "outputs": [
    {
     "data": {
      "text/html": [
       "<div>\n",
       "<style scoped>\n",
       "    .dataframe tbody tr th:only-of-type {\n",
       "        vertical-align: middle;\n",
       "    }\n",
       "\n",
       "    .dataframe tbody tr th {\n",
       "        vertical-align: top;\n",
       "    }\n",
       "\n",
       "    .dataframe thead th {\n",
       "        text-align: right;\n",
       "    }\n",
       "</style>\n",
       "<table border=\"1\" class=\"dataframe\">\n",
       "  <thead>\n",
       "    <tr style=\"text-align: right;\">\n",
       "      <th></th>\n",
       "      <th>name</th>\n",
       "      <th>Kind</th>\n",
       "      <th>Alcohol</th>\n",
       "      <th>Aroma</th>\n",
       "      <th>Taste</th>\n",
       "      <th>Finish</th>\n",
       "    </tr>\n",
       "  </thead>\n",
       "  <tbody>\n",
       "    <tr>\n",
       "      <th>0</th>\n",
       "      <td>앱솔루트 그레이프</td>\n",
       "      <td>보드카</td>\n",
       "      <td>40.0</td>\n",
       "      <td>파파야, 청포도, 용과</td>\n",
       "      <td>알코올감, 과일, 부드러운</td>\n",
       "      <td>산뜻한, 신선한, 과일</td>\n",
       "    </tr>\n",
       "    <tr>\n",
       "      <th>1</th>\n",
       "      <td>배다리도가 주교주</td>\n",
       "      <td>우리술</td>\n",
       "      <td>16.0</td>\n",
       "      <td>누룩, 쌀</td>\n",
       "      <td>달콤한, 구수한</td>\n",
       "      <td>부드러운, 은은한</td>\n",
       "    </tr>\n",
       "    <tr>\n",
       "      <th>2</th>\n",
       "      <td>뽀할라 코코뱅어</td>\n",
       "      <td>임페리얼 스타우트</td>\n",
       "      <td>12.5</td>\n",
       "      <td>구운 코코넛, 열대 과일, 로스팅한 커피</td>\n",
       "      <td>달고나, 달콤한, 묵직한</td>\n",
       "      <td>부드러운, 진득한</td>\n",
       "    </tr>\n",
       "    <tr>\n",
       "      <th>3</th>\n",
       "      <td>다나 에스테이트, 바소 까베르네 소비뇽</td>\n",
       "      <td>레드 와인</td>\n",
       "      <td>14.5</td>\n",
       "      <td>오크, 타바코, 체리, 자두, 레드커런트</td>\n",
       "      <td>체리, 숲, 딸기, 단단한 구조감</td>\n",
       "      <td>크렘 브륄레, 붉은 과일, 딸기, 다크 초콜릿, 은은한</td>\n",
       "    </tr>\n",
       "    <tr>\n",
       "      <th>4</th>\n",
       "      <td>오린 스위프트 8년 인 더 데저트</td>\n",
       "      <td>레드 와인</td>\n",
       "      <td>15.7</td>\n",
       "      <td>오크, 라즈베리, 자두, 후추</td>\n",
       "      <td>블랙베리, 라즈베리, 클로브</td>\n",
       "      <td>블루베리, 오크, 바닐라, 체리</td>\n",
       "    </tr>\n",
       "    <tr>\n",
       "      <th>...</th>\n",
       "      <td>...</td>\n",
       "      <td>...</td>\n",
       "      <td>...</td>\n",
       "      <td>...</td>\n",
       "      <td>...</td>\n",
       "      <td>...</td>\n",
       "    </tr>\n",
       "    <tr>\n",
       "      <th>11258</th>\n",
       "      <td>로시뇰 코르누 에 피스 꼬뜨 도르 부르고뉴 샤르도네</td>\n",
       "      <td>화이트 와인</td>\n",
       "      <td>12.0</td>\n",
       "      <td>자스민, 자몽, 레몬, 복숭아</td>\n",
       "      <td>크림, 신선한, 섬세한</td>\n",
       "      <td>미네랄리티, 훈연, 산미</td>\n",
       "    </tr>\n",
       "    <tr>\n",
       "      <th>11259</th>\n",
       "      <td>우나니메</td>\n",
       "      <td>레드 와인</td>\n",
       "      <td>15.0</td>\n",
       "      <td>강렬한, 과일, 다크 초콜릿</td>\n",
       "      <td>묵직한, 균형 잡힌, 산미</td>\n",
       "      <td>타바코, 블랙베리, 후추</td>\n",
       "    </tr>\n",
       "    <tr>\n",
       "      <th>11260</th>\n",
       "      <td>뀌베 막성스 리스트락-메독</td>\n",
       "      <td>레드 와인</td>\n",
       "      <td>14.0</td>\n",
       "      <td>라즈베리, 블랙커런트, 허브, 감초</td>\n",
       "      <td>풍부한, 부드러운, 타닌, 복합적인</td>\n",
       "      <td>산미, 잘 익은 과일, 가죽</td>\n",
       "    </tr>\n",
       "    <tr>\n",
       "      <th>11261</th>\n",
       "      <td>모던 클래식 스프릿제로 세코 비앙코</td>\n",
       "      <td>와인 칵테일</td>\n",
       "      <td>5.5</td>\n",
       "      <td>가벼운, 포도, 청사과</td>\n",
       "      <td>경쾌한 탄산, 깔끔한, 산뜻한</td>\n",
       "      <td>상쾌한, 선명한, 산미</td>\n",
       "    </tr>\n",
       "    <tr>\n",
       "      <th>11262</th>\n",
       "      <td>리퀴드 트레져 2009 아드모어 13년</td>\n",
       "      <td>싱글몰트 위스키</td>\n",
       "      <td>54.2</td>\n",
       "      <td>부드러운 피트, 스모키, 바닐라, 레몬, 꿀</td>\n",
       "      <td>달콤한, 풍부한, 크림, 몰트</td>\n",
       "      <td>긴 여운, 시트러스, 육두구, 스파이시</td>\n",
       "    </tr>\n",
       "  </tbody>\n",
       "</table>\n",
       "<p>11263 rows × 6 columns</p>\n",
       "</div>"
      ],
      "text/plain": [
       "                               name       Kind  Alcohol  \\\n",
       "0                         앱솔루트 그레이프        보드카     40.0   \n",
       "1                         배다리도가 주교주        우리술     16.0   \n",
       "2                          뽀할라 코코뱅어  임페리얼 스타우트     12.5   \n",
       "3             다나 에스테이트, 바소 까베르네 소비뇽      레드 와인     14.5   \n",
       "4                오린 스위프트 8년 인 더 데저트      레드 와인     15.7   \n",
       "...                             ...        ...      ...   \n",
       "11258  로시뇰 코르누 에 피스 꼬뜨 도르 부르고뉴 샤르도네     화이트 와인     12.0   \n",
       "11259                          우나니메      레드 와인     15.0   \n",
       "11260                뀌베 막성스 리스트락-메독      레드 와인     14.0   \n",
       "11261           모던 클래식 스프릿제로 세코 비앙코     와인 칵테일      5.5   \n",
       "11262         리퀴드 트레져 2009 아드모어 13년   싱글몰트 위스키     54.2   \n",
       "\n",
       "                          Aroma                Taste  \\\n",
       "0                  파파야, 청포도, 용과       알코올감, 과일, 부드러운   \n",
       "1                         누룩, 쌀             달콤한, 구수한   \n",
       "2        구운 코코넛, 열대 과일, 로스팅한 커피        달고나, 달콤한, 묵직한   \n",
       "3        오크, 타바코, 체리, 자두, 레드커런트   체리, 숲, 딸기, 단단한 구조감   \n",
       "4              오크, 라즈베리, 자두, 후추      블랙베리, 라즈베리, 클로브   \n",
       "...                         ...                  ...   \n",
       "11258          자스민, 자몽, 레몬, 복숭아         크림, 신선한, 섬세한   \n",
       "11259           강렬한, 과일, 다크 초콜릿       묵직한, 균형 잡힌, 산미   \n",
       "11260       라즈베리, 블랙커런트, 허브, 감초  풍부한, 부드러운, 타닌, 복합적인   \n",
       "11261              가벼운, 포도, 청사과     경쾌한 탄산, 깔끔한, 산뜻한   \n",
       "11262  부드러운 피트, 스모키, 바닐라, 레몬, 꿀     달콤한, 풍부한, 크림, 몰트   \n",
       "\n",
       "                               Finish  \n",
       "0                        산뜻한, 신선한, 과일  \n",
       "1                           부드러운, 은은한  \n",
       "2                           부드러운, 진득한  \n",
       "3      크렘 브륄레, 붉은 과일, 딸기, 다크 초콜릿, 은은한  \n",
       "4                   블루베리, 오크, 바닐라, 체리  \n",
       "...                               ...  \n",
       "11258                   미네랄리티, 훈연, 산미  \n",
       "11259                   타바코, 블랙베리, 후추  \n",
       "11260                 산미, 잘 익은 과일, 가죽  \n",
       "11261                    상쾌한, 선명한, 산미  \n",
       "11262           긴 여운, 시트러스, 육두구, 스파이시  \n",
       "\n",
       "[11263 rows x 6 columns]"
      ]
     },
     "execution_count": 3,
     "metadata": {},
     "output_type": "execute_result"
    }
   ],
   "source": [
    "# 컬럼명 변경\n",
    "df.rename(columns= {'종류':'Kind', '도수':'Alcohol'}, inplace=True)\n",
    "df"
   ]
  },
  {
   "cell_type": "code",
   "execution_count": 4,
   "metadata": {},
   "outputs": [
    {
     "data": {
      "text/plain": [
       "Kind\n",
       "싱글몰트 위스키        2331\n",
       "레드 와인           2219\n",
       "화이트 와인           980\n",
       "블렌디드 위스키         449\n",
       "스파클링 와인          437\n",
       "                ... \n",
       "로즈 복               1\n",
       "크리스탈 바이젠           1\n",
       "흑맥주                1\n",
       "아메리칸 소주            1\n",
       "스파클링 와인, 우리술       1\n",
       "Name: count, Length: 334, dtype: int64"
      ]
     },
     "execution_count": 4,
     "metadata": {},
     "output_type": "execute_result"
    }
   ],
   "source": [
    "df['Kind'].value_counts()"
   ]
  },
  {
   "cell_type": "code",
   "execution_count": 23,
   "metadata": {},
   "outputs": [
    {
     "name": "stdout",
     "output_type": "stream",
     "text": [
      "                               name    Kind  Alcohol                   Aroma  \\\n",
      "3             다나 에스테이트, 바소 까베르네 소비뇽   레드 와인     14.5  오크, 타바코, 체리, 자두, 레드커런트   \n",
      "4                오린 스위프트 8년 인 더 데저트   레드 와인     15.7        오크, 라즈베리, 자두, 후추   \n",
      "5                      오린 스위프트 팔레르모   레드 와인     15.3        오크, 바닐라, 초콜릿, 가죽   \n",
      "6                       오린 스위프트 파피용   레드 와인     15.1            오크, 바닐라, 초콜릿   \n",
      "7                 이스까이 말벡 - 까베르네 프랑   레드 와인     14.5                과일, 다채로운   \n",
      "...                             ...     ...      ...                     ...   \n",
      "11254                 토로 셀렉시옹 시라 말벡   레드 와인     13.5  검은 과일, 복숭아, 시트러스, 바이올렛   \n",
      "11258  로시뇰 코르누 에 피스 꼬뜨 도르 부르고뉴 샤르도네  화이트 와인     12.0        자스민, 자몽, 레몬, 복숭아   \n",
      "11259                          우나니메   레드 와인     15.0         강렬한, 과일, 다크 초콜릿   \n",
      "11260                뀌베 막성스 리스트락-메독   레드 와인     14.0     라즈베리, 블랙커런트, 허브, 감초   \n",
      "11261           모던 클래식 스프릿제로 세코 비앙코  와인 칵테일      5.5            가벼운, 포도, 청사과   \n",
      "\n",
      "                     Taste                          Finish  \n",
      "3       체리, 숲, 딸기, 단단한 구조감  크렘 브륄레, 붉은 과일, 딸기, 다크 초콜릿, 은은한  \n",
      "4          블랙베리, 라즈베리, 클로브               블루베리, 오크, 바닐라, 체리  \n",
      "5       블랙베리, 자두, 라즈베리, 체리               블루베리, 오크, 바닐라, 체리  \n",
      "6             블랙베리, 자두, 가죽                        스모키, 초콜릿  \n",
      "7          과일, 오크, 초콜릿, 산미                             우아한  \n",
      "...                    ...                             ...  \n",
      "11254         자두, 블랙베리, 둥근               스파이시, 쌉쌀한, 다크 초콜릿  \n",
      "11258         크림, 신선한, 섬세한                   미네랄리티, 훈연, 산미  \n",
      "11259       묵직한, 균형 잡힌, 산미                   타바코, 블랙베리, 후추  \n",
      "11260  풍부한, 부드러운, 타닌, 복합적인                 산미, 잘 익은 과일, 가죽  \n",
      "11261     경쾌한 탄산, 깔끔한, 산뜻한                    상쾌한, 선명한, 산미  \n",
      "\n",
      "[4296 rows x 6 columns]\n"
     ]
    }
   ],
   "source": [
    "# 'kind' 열에 \"와인\"이 포함된 행들을 선택하여 'wine' 데이터프레임을 생성합니다\n",
    "wine = df[df['Kind'].str.contains('와인')]\n",
    "\n",
    "# 'wine' 데이터프레임을 출력합니다\n",
    "print(wine)"
   ]
  },
  {
   "cell_type": "code",
   "execution_count": 27,
   "metadata": {},
   "outputs": [
    {
     "name": "stdout",
     "output_type": "stream",
     "text": [
      "                    name   Kind  Alcohol                   Aroma  \\\n",
      "0  다나 에스테이트, 바소 까베르네 소비뇽  레드 와인     14.5  오크, 타바코, 체리, 자두, 레드커런트   \n",
      "1     오린 스위프트 8년 인 더 데저트  레드 와인     15.7        오크, 라즈베리, 자두, 후추   \n",
      "2           오린 스위프트 팔레르모  레드 와인     15.3        오크, 바닐라, 초콜릿, 가죽   \n",
      "3            오린 스위프트 파피용  레드 와인     15.1            오크, 바닐라, 초콜릿   \n",
      "4      이스까이 말벡 - 까베르네 프랑  레드 와인     14.5                과일, 다채로운   \n",
      "\n",
      "                Taste                          Finish  \n",
      "0  체리, 숲, 딸기, 단단한 구조감  크렘 브륄레, 붉은 과일, 딸기, 다크 초콜릿, 은은한  \n",
      "1     블랙베리, 라즈베리, 클로브               블루베리, 오크, 바닐라, 체리  \n",
      "2  블랙베리, 자두, 라즈베리, 체리               블루베리, 오크, 바닐라, 체리  \n",
      "3        블랙베리, 자두, 가죽                        스모키, 초콜릿  \n",
      "4     과일, 오크, 초콜릿, 산미                             우아한  \n",
      "(4296, 6)\n"
     ]
    }
   ],
   "source": [
    "wine.reset_index(drop=True, inplace=True)\n",
    "print(wine.head())\n",
    "print(wine.shape)"
   ]
  },
  {
   "cell_type": "code",
   "execution_count": 32,
   "metadata": {},
   "outputs": [],
   "source": [
    "wine.to_csv('./wine_data.csv', index=False)"
   ]
  },
  {
   "cell_type": "code",
   "execution_count": 5,
   "metadata": {},
   "outputs": [
    {
     "name": "stdout",
     "output_type": "stream",
     "text": [
      "                                     name              Kind  Alcohol  \\\n",
      "8                 고든 앤 맥페일 디스틸러리 링크우드 25년          싱글몰트 위스키     46.0   \n",
      "10                 고든 앤 맥페일 디스틸러리 몰트락 25년          싱글몰트 위스키     46.0   \n",
      "11     고든 앤 맥페일 코노세어 초이스 2009 글렌듀란 12년 CS          싱글몰트 위스키     45.0   \n",
      "12     고든 앤 맥페일 코노세어 초이스 1996 글렌버기 25년 CS          싱글몰트 위스키     59.0   \n",
      "13     고든 앤 맥페일 코노세어 초이스 1995 글렌카담 26년 CS          싱글몰트 위스키     57.0   \n",
      "...                                   ...               ...      ...   \n",
      "11235                             히비키 17년     재패니즈 블렌디드 위스키     43.0   \n",
      "11236                      마르스 더 Y.A. #02  재패니즈 블렌디드 몰트 위스키     49.0   \n",
      "11237                    글렌고인  티팟 드램 배치 4          싱글몰트 위스키     58.5   \n",
      "11238                            스페이번 18년          싱글몰트 위스키     46.0   \n",
      "11262               리퀴드 트레져 2009 아드모어 13년          싱글몰트 위스키     54.2   \n",
      "\n",
      "                                         Aroma  \\\n",
      "8                      달콤한, 셰리, 흑설탕, 설탕에 절인 과일   \n",
      "10                셰리, 과일 케이크, 생강, 구운 사과, 감귤 껍질   \n",
      "11                     딸기, 말린 과일, 구운 견과류, 바이올렛   \n",
      "12                   셰리, 오렌지 마멀레이드, 생강, 구운 아몬드   \n",
      "13                  향신료, 셰리, 오렌지 껍질, 설탕에 절인 과일   \n",
      "...                                        ...   \n",
      "11235                          꽃, 꿀, 시트러스, 스모키   \n",
      "11236                          바다 내음, 열대 과일, 숲   \n",
      "11237                              셰리, 오렌지, 나무   \n",
      "11238  토피, 설탕 코팅된 아몬드, 열대 과일, 구운 설탕, 설탕에 절인 사과   \n",
      "11262                 부드러운 피트, 스모키, 바닐라, 레몬, 꿀   \n",
      "\n",
      "                                 Taste                        Finish  \n",
      "8          부드러운, 잘 익은 과일, 다크 초콜릿, 헤이즐넛          따뜻한, 향신료, 태운 오크, 참나무  \n",
      "10              향신료, 오렌지, 베리, 후추, 헤이즐넛       긴 여운, 향신료, 과일, 아몬드, 풍성한  \n",
      "11            라즈베리 잼, 사과, 데메라라 설탕, 백후추    꿀, 허브, 레드베리, 시트러스, 감귤, 달콤한  \n",
      "12              블랙베리, 사과, 후추, 시트러스, 감귤            달콤한, 과일, 스파이스, 풍부한  \n",
      "13              흑설탕, 과일, 클로브, 시트러스, 감귤            민트, 건포도, 구운 오크, 토피  \n",
      "...                                ...                           ...  \n",
      "11235                 바닐라, 정향, 후추, 가벼운               코코아, 오크, 토피, 몰트  \n",
      "11236                  스모키, 미네랄리티, 농익은                 감칠맛, 진한, 긴 여운  \n",
      "11237                 마지팬, 사과, 데메라라 설탕          초콜릿, 터키쉬 딜라이트, 마멀레이드  \n",
      "11238  크리미, 토피, 다크 초콜릿, 오크, 스파이스, 시트러스  묵직한, 긴 여운, 달콤한, 쌉쌀한, 가벼운 스모키  \n",
      "11262                 달콤한, 풍부한, 크림, 몰트         긴 여운, 시트러스, 육두구, 스파이시  \n",
      "\n",
      "[3788 rows x 6 columns]\n"
     ]
    }
   ],
   "source": [
    "# 'Kind' 열에 \"위스키\"이 포함된 행들을 선택하여 'whisky' 데이터프레임을 생성합니다\n",
    "whisky = df[df['Kind'].str.contains('위스키')]\n",
    "\n",
    "# 'wine' 데이터프레임을 출력합니다\n",
    "print(whisky)"
   ]
  },
  {
   "cell_type": "code",
   "execution_count": 6,
   "metadata": {},
   "outputs": [
    {
     "name": "stdout",
     "output_type": "stream",
     "text": [
      "                                 name      Kind  Alcohol  \\\n",
      "0             고든 앤 맥페일 디스틸러리 링크우드 25년  싱글몰트 위스키     46.0   \n",
      "1              고든 앤 맥페일 디스틸러리 몰트락 25년  싱글몰트 위스키     46.0   \n",
      "2  고든 앤 맥페일 코노세어 초이스 2009 글렌듀란 12년 CS  싱글몰트 위스키     45.0   \n",
      "3  고든 앤 맥페일 코노세어 초이스 1996 글렌버기 25년 CS  싱글몰트 위스키     59.0   \n",
      "4  고든 앤 맥페일 코노세어 초이스 1995 글렌카담 26년 CS  싱글몰트 위스키     57.0   \n",
      "\n",
      "                          Aroma                        Taste  \\\n",
      "0       달콤한, 셰리, 흑설탕, 설탕에 절인 과일  부드러운, 잘 익은 과일, 다크 초콜릿, 헤이즐넛   \n",
      "1  셰리, 과일 케이크, 생강, 구운 사과, 감귤 껍질       향신료, 오렌지, 베리, 후추, 헤이즐넛   \n",
      "2       딸기, 말린 과일, 구운 견과류, 바이올렛     라즈베리 잼, 사과, 데메라라 설탕, 백후추   \n",
      "3     셰리, 오렌지 마멀레이드, 생강, 구운 아몬드       블랙베리, 사과, 후추, 시트러스, 감귤   \n",
      "4    향신료, 셰리, 오렌지 껍질, 설탕에 절인 과일       흑설탕, 과일, 클로브, 시트러스, 감귤   \n",
      "\n",
      "                       Finish  \n",
      "0        따뜻한, 향신료, 태운 오크, 참나무  \n",
      "1     긴 여운, 향신료, 과일, 아몬드, 풍성한  \n",
      "2  꿀, 허브, 레드베리, 시트러스, 감귤, 달콤한  \n",
      "3          달콤한, 과일, 스파이스, 풍부한  \n",
      "4          민트, 건포도, 구운 오크, 토피  \n",
      "(3788, 6)\n"
     ]
    }
   ],
   "source": [
    "whisky.reset_index(drop=True, inplace=True)\n",
    "print(whisky.head())\n",
    "print(whisky.shape)"
   ]
  },
  {
   "cell_type": "code",
   "execution_count": 8,
   "metadata": {},
   "outputs": [],
   "source": [
    "whisky.to_csv('./whisky_data.csv', index=False)"
   ]
  },
  {
   "cell_type": "code",
   "execution_count": 36,
   "metadata": {},
   "outputs": [],
   "source": [
    "beer = df[df['Kind'].str.contains('맥주')]\n",
    "rum = df[df['Kind'].str.contains('럼')]\n",
    "cognac = df[df['Kind'].str.contains('꼬냑')]\n",
    "tequila = df[df['Kind'].str.contains('데킬라')]\n",
    "vodka = df[df['Kind'].str.contains('보드카')]\n",
    "liqueur = df[df['Kind'].str.contains('리큐르')]\n",
    "jin = df[df['Kind'].str.contains('진')]\n",
    "sake = df[df['Kind'].str.contains('사케')]"
   ]
  },
  {
   "cell_type": "code",
   "execution_count": 37,
   "metadata": {},
   "outputs": [],
   "source": [
    "beer.to_csv('./beer_data.csv', index=False)\n",
    "rum.to_csv('./rum_data.csv', index=False)\n",
    "cognac.to_csv('./cognac_data.csv', index=False)\n",
    "tequila.to_csv('./tequila_data.csv', index=False)\n",
    "vodka.to_csv('./vodka_data.csv', index=False)\n",
    "liqueur.to_csv('./liqueur_data.csv', index=False)\n",
    "jin.to_csv('./jin_data.csv', index=False)\n",
    "sake.to_csv('./sake_data.csv', index=False)"
   ]
  },
  {
   "cell_type": "code",
   "execution_count": 7,
   "metadata": {},
   "outputs": [
    {
     "name": "stdout",
     "output_type": "stream",
     "text": [
      "               name Kind  Alcohol            Aroma          Taste       Finish\n",
      "7595  이지 블루 하와이 하이볼  하이볼      7.0  레몬, 파인애플, 열대 과일  상쾌한, 상큼한, 달콤한  경쾌한 탄산, 코코넛\n",
      "(1, 6)\n"
     ]
    }
   ],
   "source": [
    "highball = df[df['Kind'].str.contains('하이볼')]\n",
    "print(highball.head())\n",
    "print(highball.shape)\n",
    "# highball.to_csv('./highball_data.csv', index=False)"
   ]
  }
 ],
 "metadata": {
  "kernelspec": {
   "display_name": "Alcohol",
   "language": "python",
   "name": "python3"
  },
  "language_info": {
   "codemirror_mode": {
    "name": "ipython",
    "version": 3
   },
   "file_extension": ".py",
   "mimetype": "text/x-python",
   "name": "python",
   "nbconvert_exporter": "python",
   "pygments_lexer": "ipython3",
   "version": "3.8.17"
  },
  "orig_nbformat": 4
 },
 "nbformat": 4,
 "nbformat_minor": 2
}
